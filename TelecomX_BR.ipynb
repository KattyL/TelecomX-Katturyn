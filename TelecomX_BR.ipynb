{
 "cells": [
  {
   "cell_type": "markdown",
   "metadata": {
    "id": "4foVEKhrlqcH"
   },
   "source": [
    "#📌 Extracão"
   ]
  },
  {
   "cell_type": "code",
   "execution_count": 1,
   "metadata": {
    "id": "1--uPM88l7JH"
   },
   "outputs": [],
   "source": [
    "import pandas as pd\n",
    "import json"
   ]
  },
  {
   "cell_type": "code",
   "execution_count": 2,
   "metadata": {},
   "outputs": [
    {
     "data": {
      "text/html": [
       "<div>\n",
       "<style scoped>\n",
       "    .dataframe tbody tr th:only-of-type {\n",
       "        vertical-align: middle;\n",
       "    }\n",
       "\n",
       "    .dataframe tbody tr th {\n",
       "        vertical-align: top;\n",
       "    }\n",
       "\n",
       "    .dataframe thead th {\n",
       "        text-align: right;\n",
       "    }\n",
       "</style>\n",
       "<table border=\"1\" class=\"dataframe\">\n",
       "  <thead>\n",
       "    <tr style=\"text-align: right;\">\n",
       "      <th></th>\n",
       "      <th>customerID</th>\n",
       "      <th>Churn</th>\n",
       "      <th>customer</th>\n",
       "      <th>phone</th>\n",
       "      <th>internet</th>\n",
       "      <th>account</th>\n",
       "    </tr>\n",
       "  </thead>\n",
       "  <tbody>\n",
       "    <tr>\n",
       "      <th>0</th>\n",
       "      <td>0002-ORFBO</td>\n",
       "      <td>No</td>\n",
       "      <td>{'gender': 'Female', 'SeniorCitizen': 0, 'Part...</td>\n",
       "      <td>{'PhoneService': 'Yes', 'MultipleLines': 'No'}</td>\n",
       "      <td>{'InternetService': 'DSL', 'OnlineSecurity': '...</td>\n",
       "      <td>{'Contract': 'One year', 'PaperlessBilling': '...</td>\n",
       "    </tr>\n",
       "    <tr>\n",
       "      <th>1</th>\n",
       "      <td>0003-MKNFE</td>\n",
       "      <td>No</td>\n",
       "      <td>{'gender': 'Male', 'SeniorCitizen': 0, 'Partne...</td>\n",
       "      <td>{'PhoneService': 'Yes', 'MultipleLines': 'Yes'}</td>\n",
       "      <td>{'InternetService': 'DSL', 'OnlineSecurity': '...</td>\n",
       "      <td>{'Contract': 'Month-to-month', 'PaperlessBilli...</td>\n",
       "    </tr>\n",
       "    <tr>\n",
       "      <th>2</th>\n",
       "      <td>0004-TLHLJ</td>\n",
       "      <td>Yes</td>\n",
       "      <td>{'gender': 'Male', 'SeniorCitizen': 0, 'Partne...</td>\n",
       "      <td>{'PhoneService': 'Yes', 'MultipleLines': 'No'}</td>\n",
       "      <td>{'InternetService': 'Fiber optic', 'OnlineSecu...</td>\n",
       "      <td>{'Contract': 'Month-to-month', 'PaperlessBilli...</td>\n",
       "    </tr>\n",
       "    <tr>\n",
       "      <th>3</th>\n",
       "      <td>0011-IGKFF</td>\n",
       "      <td>Yes</td>\n",
       "      <td>{'gender': 'Male', 'SeniorCitizen': 1, 'Partne...</td>\n",
       "      <td>{'PhoneService': 'Yes', 'MultipleLines': 'No'}</td>\n",
       "      <td>{'InternetService': 'Fiber optic', 'OnlineSecu...</td>\n",
       "      <td>{'Contract': 'Month-to-month', 'PaperlessBilli...</td>\n",
       "    </tr>\n",
       "    <tr>\n",
       "      <th>4</th>\n",
       "      <td>0013-EXCHZ</td>\n",
       "      <td>Yes</td>\n",
       "      <td>{'gender': 'Female', 'SeniorCitizen': 1, 'Part...</td>\n",
       "      <td>{'PhoneService': 'Yes', 'MultipleLines': 'No'}</td>\n",
       "      <td>{'InternetService': 'Fiber optic', 'OnlineSecu...</td>\n",
       "      <td>{'Contract': 'Month-to-month', 'PaperlessBilli...</td>\n",
       "    </tr>\n",
       "  </tbody>\n",
       "</table>\n",
       "</div>"
      ],
      "text/plain": [
       "   customerID Churn                                           customer  \\\n",
       "0  0002-ORFBO    No  {'gender': 'Female', 'SeniorCitizen': 0, 'Part...   \n",
       "1  0003-MKNFE    No  {'gender': 'Male', 'SeniorCitizen': 0, 'Partne...   \n",
       "2  0004-TLHLJ   Yes  {'gender': 'Male', 'SeniorCitizen': 0, 'Partne...   \n",
       "3  0011-IGKFF   Yes  {'gender': 'Male', 'SeniorCitizen': 1, 'Partne...   \n",
       "4  0013-EXCHZ   Yes  {'gender': 'Female', 'SeniorCitizen': 1, 'Part...   \n",
       "\n",
       "                                             phone  \\\n",
       "0   {'PhoneService': 'Yes', 'MultipleLines': 'No'}   \n",
       "1  {'PhoneService': 'Yes', 'MultipleLines': 'Yes'}   \n",
       "2   {'PhoneService': 'Yes', 'MultipleLines': 'No'}   \n",
       "3   {'PhoneService': 'Yes', 'MultipleLines': 'No'}   \n",
       "4   {'PhoneService': 'Yes', 'MultipleLines': 'No'}   \n",
       "\n",
       "                                            internet  \\\n",
       "0  {'InternetService': 'DSL', 'OnlineSecurity': '...   \n",
       "1  {'InternetService': 'DSL', 'OnlineSecurity': '...   \n",
       "2  {'InternetService': 'Fiber optic', 'OnlineSecu...   \n",
       "3  {'InternetService': 'Fiber optic', 'OnlineSecu...   \n",
       "4  {'InternetService': 'Fiber optic', 'OnlineSecu...   \n",
       "\n",
       "                                             account  \n",
       "0  {'Contract': 'One year', 'PaperlessBilling': '...  \n",
       "1  {'Contract': 'Month-to-month', 'PaperlessBilli...  \n",
       "2  {'Contract': 'Month-to-month', 'PaperlessBilli...  \n",
       "3  {'Contract': 'Month-to-month', 'PaperlessBilli...  \n",
       "4  {'Contract': 'Month-to-month', 'PaperlessBilli...  "
      ]
     },
     "execution_count": 2,
     "metadata": {},
     "output_type": "execute_result"
    }
   ],
   "source": [
    "arquivo = \"TelecomX_Data.json\"\n",
    "df = pd.read_json(arquivo)\n",
    "df.head()"
   ]
  },
  {
   "cell_type": "markdown",
   "metadata": {
    "id": "1lSZP8zmmGZu"
   },
   "source": [
    "#🔧 Transformação"
   ]
  },
  {
   "cell_type": "code",
   "execution_count": 3,
   "metadata": {},
   "outputs": [],
   "source": [
    "'Essa função extrai e transforma as chaves dos dicionários automaticamente em novas colunas'\n",
    "\n",
    "def extrair_colunas(df):\n",
    "\n",
    "\n",
    "    df = df.copy()\n",
    "    novas_colunas = []  # guarda as colunas\n",
    "    colunas_dict = []   # guarda os nomes das colunas que são dicionários\n",
    "\n",
    "    for coluna in df.columns:\n",
    "        if df[coluna].apply(lambda x: isinstance(x, dict)).all():\n",
    "            colunas_dict.append(coluna)\n",
    "            colunas_expandidas = pd.json_normalize(df[coluna])\n",
    "            colunas_expandidas.columns = [f\"{coluna}_{nome}\" for nome in colunas_expandidas.columns]\n",
    "            novas_colunas.append(colunas_expandidas)\n",
    "\n",
    "    df_sem_dicts = df.drop(columns=colunas_dict).reset_index(drop=True)\n",
    "\n",
    "    if novas_colunas:\n",
    "        df_final = pd.concat([df_sem_dicts] + novas_colunas, axis=1)\n",
    "    else:\n",
    "        df_final = df_sem_dicts \n",
    "\n",
    "    return df_final\n"
   ]
  },
  {
   "cell_type": "code",
   "execution_count": 4,
   "metadata": {
    "scrolled": true
   },
   "outputs": [
    {
     "data": {
      "text/html": [
       "<div>\n",
       "<style scoped>\n",
       "    .dataframe tbody tr th:only-of-type {\n",
       "        vertical-align: middle;\n",
       "    }\n",
       "\n",
       "    .dataframe tbody tr th {\n",
       "        vertical-align: top;\n",
       "    }\n",
       "\n",
       "    .dataframe thead th {\n",
       "        text-align: right;\n",
       "    }\n",
       "</style>\n",
       "<table border=\"1\" class=\"dataframe\">\n",
       "  <thead>\n",
       "    <tr style=\"text-align: right;\">\n",
       "      <th></th>\n",
       "      <th>customerID</th>\n",
       "      <th>Churn</th>\n",
       "      <th>customer_gender</th>\n",
       "      <th>customer_SeniorCitizen</th>\n",
       "      <th>customer_Partner</th>\n",
       "      <th>customer_Dependents</th>\n",
       "      <th>customer_tenure</th>\n",
       "      <th>phone_PhoneService</th>\n",
       "      <th>phone_MultipleLines</th>\n",
       "      <th>internet_InternetService</th>\n",
       "      <th>...</th>\n",
       "      <th>internet_OnlineBackup</th>\n",
       "      <th>internet_DeviceProtection</th>\n",
       "      <th>internet_TechSupport</th>\n",
       "      <th>internet_StreamingTV</th>\n",
       "      <th>internet_StreamingMovies</th>\n",
       "      <th>account_Contract</th>\n",
       "      <th>account_PaperlessBilling</th>\n",
       "      <th>account_PaymentMethod</th>\n",
       "      <th>account_Charges.Monthly</th>\n",
       "      <th>account_Charges.Total</th>\n",
       "    </tr>\n",
       "  </thead>\n",
       "  <tbody>\n",
       "    <tr>\n",
       "      <th>0</th>\n",
       "      <td>0002-ORFBO</td>\n",
       "      <td>No</td>\n",
       "      <td>Female</td>\n",
       "      <td>0</td>\n",
       "      <td>Yes</td>\n",
       "      <td>Yes</td>\n",
       "      <td>9</td>\n",
       "      <td>Yes</td>\n",
       "      <td>No</td>\n",
       "      <td>DSL</td>\n",
       "      <td>...</td>\n",
       "      <td>Yes</td>\n",
       "      <td>No</td>\n",
       "      <td>Yes</td>\n",
       "      <td>Yes</td>\n",
       "      <td>No</td>\n",
       "      <td>One year</td>\n",
       "      <td>Yes</td>\n",
       "      <td>Mailed check</td>\n",
       "      <td>65.6</td>\n",
       "      <td>593.3</td>\n",
       "    </tr>\n",
       "    <tr>\n",
       "      <th>1</th>\n",
       "      <td>0003-MKNFE</td>\n",
       "      <td>No</td>\n",
       "      <td>Male</td>\n",
       "      <td>0</td>\n",
       "      <td>No</td>\n",
       "      <td>No</td>\n",
       "      <td>9</td>\n",
       "      <td>Yes</td>\n",
       "      <td>Yes</td>\n",
       "      <td>DSL</td>\n",
       "      <td>...</td>\n",
       "      <td>No</td>\n",
       "      <td>No</td>\n",
       "      <td>No</td>\n",
       "      <td>No</td>\n",
       "      <td>Yes</td>\n",
       "      <td>Month-to-month</td>\n",
       "      <td>No</td>\n",
       "      <td>Mailed check</td>\n",
       "      <td>59.9</td>\n",
       "      <td>542.4</td>\n",
       "    </tr>\n",
       "    <tr>\n",
       "      <th>2</th>\n",
       "      <td>0004-TLHLJ</td>\n",
       "      <td>Yes</td>\n",
       "      <td>Male</td>\n",
       "      <td>0</td>\n",
       "      <td>No</td>\n",
       "      <td>No</td>\n",
       "      <td>4</td>\n",
       "      <td>Yes</td>\n",
       "      <td>No</td>\n",
       "      <td>Fiber optic</td>\n",
       "      <td>...</td>\n",
       "      <td>No</td>\n",
       "      <td>Yes</td>\n",
       "      <td>No</td>\n",
       "      <td>No</td>\n",
       "      <td>No</td>\n",
       "      <td>Month-to-month</td>\n",
       "      <td>Yes</td>\n",
       "      <td>Electronic check</td>\n",
       "      <td>73.9</td>\n",
       "      <td>280.85</td>\n",
       "    </tr>\n",
       "    <tr>\n",
       "      <th>3</th>\n",
       "      <td>0011-IGKFF</td>\n",
       "      <td>Yes</td>\n",
       "      <td>Male</td>\n",
       "      <td>1</td>\n",
       "      <td>Yes</td>\n",
       "      <td>No</td>\n",
       "      <td>13</td>\n",
       "      <td>Yes</td>\n",
       "      <td>No</td>\n",
       "      <td>Fiber optic</td>\n",
       "      <td>...</td>\n",
       "      <td>Yes</td>\n",
       "      <td>Yes</td>\n",
       "      <td>No</td>\n",
       "      <td>Yes</td>\n",
       "      <td>Yes</td>\n",
       "      <td>Month-to-month</td>\n",
       "      <td>Yes</td>\n",
       "      <td>Electronic check</td>\n",
       "      <td>98.0</td>\n",
       "      <td>1237.85</td>\n",
       "    </tr>\n",
       "    <tr>\n",
       "      <th>4</th>\n",
       "      <td>0013-EXCHZ</td>\n",
       "      <td>Yes</td>\n",
       "      <td>Female</td>\n",
       "      <td>1</td>\n",
       "      <td>Yes</td>\n",
       "      <td>No</td>\n",
       "      <td>3</td>\n",
       "      <td>Yes</td>\n",
       "      <td>No</td>\n",
       "      <td>Fiber optic</td>\n",
       "      <td>...</td>\n",
       "      <td>No</td>\n",
       "      <td>No</td>\n",
       "      <td>Yes</td>\n",
       "      <td>Yes</td>\n",
       "      <td>No</td>\n",
       "      <td>Month-to-month</td>\n",
       "      <td>Yes</td>\n",
       "      <td>Mailed check</td>\n",
       "      <td>83.9</td>\n",
       "      <td>267.4</td>\n",
       "    </tr>\n",
       "  </tbody>\n",
       "</table>\n",
       "<p>5 rows × 21 columns</p>\n",
       "</div>"
      ],
      "text/plain": [
       "   customerID Churn customer_gender  customer_SeniorCitizen customer_Partner  \\\n",
       "0  0002-ORFBO    No          Female                       0              Yes   \n",
       "1  0003-MKNFE    No            Male                       0               No   \n",
       "2  0004-TLHLJ   Yes            Male                       0               No   \n",
       "3  0011-IGKFF   Yes            Male                       1              Yes   \n",
       "4  0013-EXCHZ   Yes          Female                       1              Yes   \n",
       "\n",
       "  customer_Dependents  customer_tenure phone_PhoneService phone_MultipleLines  \\\n",
       "0                 Yes                9                Yes                  No   \n",
       "1                  No                9                Yes                 Yes   \n",
       "2                  No                4                Yes                  No   \n",
       "3                  No               13                Yes                  No   \n",
       "4                  No                3                Yes                  No   \n",
       "\n",
       "  internet_InternetService  ... internet_OnlineBackup  \\\n",
       "0                      DSL  ...                   Yes   \n",
       "1                      DSL  ...                    No   \n",
       "2              Fiber optic  ...                    No   \n",
       "3              Fiber optic  ...                   Yes   \n",
       "4              Fiber optic  ...                    No   \n",
       "\n",
       "  internet_DeviceProtection internet_TechSupport internet_StreamingTV  \\\n",
       "0                        No                  Yes                  Yes   \n",
       "1                        No                   No                   No   \n",
       "2                       Yes                   No                   No   \n",
       "3                       Yes                   No                  Yes   \n",
       "4                        No                  Yes                  Yes   \n",
       "\n",
       "  internet_StreamingMovies account_Contract account_PaperlessBilling  \\\n",
       "0                       No         One year                      Yes   \n",
       "1                      Yes   Month-to-month                       No   \n",
       "2                       No   Month-to-month                      Yes   \n",
       "3                      Yes   Month-to-month                      Yes   \n",
       "4                       No   Month-to-month                      Yes   \n",
       "\n",
       "  account_PaymentMethod account_Charges.Monthly  account_Charges.Total  \n",
       "0          Mailed check                    65.6                  593.3  \n",
       "1          Mailed check                    59.9                  542.4  \n",
       "2      Electronic check                    73.9                 280.85  \n",
       "3      Electronic check                    98.0                1237.85  \n",
       "4          Mailed check                    83.9                  267.4  \n",
       "\n",
       "[5 rows x 21 columns]"
      ]
     },
     "execution_count": 4,
     "metadata": {},
     "output_type": "execute_result"
    }
   ],
   "source": [
    "df_extraido = extrair_colunas(df)\n",
    "df_extraido.head()"
   ]
  },
  {
   "cell_type": "code",
   "execution_count": 5,
   "metadata": {},
   "outputs": [],
   "source": [
    "df_original = df.copy()"
   ]
  },
  {
   "cell_type": "code",
   "execution_count": 6,
   "metadata": {},
   "outputs": [],
   "source": [
    "df = df_extraido.copy()\n",
    "del df_extraido"
   ]
  },
  {
   "cell_type": "code",
   "execution_count": 7,
   "metadata": {},
   "outputs": [
    {
     "name": "stdout",
     "output_type": "stream",
     "text": [
      "<class 'pandas.core.frame.DataFrame'>\n",
      "RangeIndex: 7267 entries, 0 to 7266\n",
      "Data columns (total 21 columns):\n",
      " #   Column                     Non-Null Count  Dtype  \n",
      "---  ------                     --------------  -----  \n",
      " 0   customerID                 7267 non-null   object \n",
      " 1   Churn                      7267 non-null   object \n",
      " 2   customer_gender            7267 non-null   object \n",
      " 3   customer_SeniorCitizen     7267 non-null   int64  \n",
      " 4   customer_Partner           7267 non-null   object \n",
      " 5   customer_Dependents        7267 non-null   object \n",
      " 6   customer_tenure            7267 non-null   int64  \n",
      " 7   phone_PhoneService         7267 non-null   object \n",
      " 8   phone_MultipleLines        7267 non-null   object \n",
      " 9   internet_InternetService   7267 non-null   object \n",
      " 10  internet_OnlineSecurity    7267 non-null   object \n",
      " 11  internet_OnlineBackup      7267 non-null   object \n",
      " 12  internet_DeviceProtection  7267 non-null   object \n",
      " 13  internet_TechSupport       7267 non-null   object \n",
      " 14  internet_StreamingTV       7267 non-null   object \n",
      " 15  internet_StreamingMovies   7267 non-null   object \n",
      " 16  account_Contract           7267 non-null   object \n",
      " 17  account_PaperlessBilling   7267 non-null   object \n",
      " 18  account_PaymentMethod      7267 non-null   object \n",
      " 19  account_Charges.Monthly    7267 non-null   float64\n",
      " 20  account_Charges.Total      7267 non-null   object \n",
      "dtypes: float64(1), int64(2), object(18)\n",
      "memory usage: 1.2+ MB\n"
     ]
    }
   ],
   "source": [
    "df.info()"
   ]
  },
  {
   "cell_type": "code",
   "execution_count": 8,
   "metadata": {},
   "outputs": [
    {
     "data": {
      "text/plain": [
       "CategoricalDtype(categories=['Month-to-month', 'One year', 'Two year'], ordered=False)"
      ]
     },
     "execution_count": 8,
     "metadata": {},
     "output_type": "execute_result"
    }
   ],
   "source": [
    "df['account_Charges.Total'] = pd.to_numeric(df['account_Charges.Total'], errors='coerce')\n",
    "df['account_Contract'] = df['account_Contract'].astype('category')\n",
    "df['account_Contract'].dtype"
   ]
  },
  {
   "cell_type": "code",
   "execution_count": 9,
   "metadata": {},
   "outputs": [
    {
     "data": {
      "text/plain": [
       "dtype('float64')"
      ]
     },
     "execution_count": 9,
     "metadata": {},
     "output_type": "execute_result"
    }
   ],
   "source": [
    "df['account_Charges.Total'].dtype"
   ]
  },
  {
   "cell_type": "code",
   "execution_count": 10,
   "metadata": {},
   "outputs": [
    {
     "data": {
      "text/plain": [
       "<bound method NDFrame.describe of       customerID Churn customer_gender  customer_SeniorCitizen  \\\n",
       "0     0002-ORFBO    No          Female                       0   \n",
       "1     0003-MKNFE    No            Male                       0   \n",
       "2     0004-TLHLJ   Yes            Male                       0   \n",
       "3     0011-IGKFF   Yes            Male                       1   \n",
       "4     0013-EXCHZ   Yes          Female                       1   \n",
       "...          ...   ...             ...                     ...   \n",
       "7262  9987-LUTYD    No          Female                       0   \n",
       "7263  9992-RRAMN   Yes            Male                       0   \n",
       "7264  9992-UJOEL    No            Male                       0   \n",
       "7265  9993-LHIEB    No            Male                       0   \n",
       "7266  9995-HOTOH    No            Male                       0   \n",
       "\n",
       "     customer_Partner customer_Dependents  customer_tenure phone_PhoneService  \\\n",
       "0                 Yes                 Yes                9                Yes   \n",
       "1                  No                  No                9                Yes   \n",
       "2                  No                  No                4                Yes   \n",
       "3                 Yes                  No               13                Yes   \n",
       "4                 Yes                  No                3                Yes   \n",
       "...               ...                 ...              ...                ...   \n",
       "7262               No                  No               13                Yes   \n",
       "7263              Yes                  No               22                Yes   \n",
       "7264               No                  No                2                Yes   \n",
       "7265              Yes                 Yes               67                Yes   \n",
       "7266              Yes                 Yes               63                 No   \n",
       "\n",
       "     phone_MultipleLines internet_InternetService  ... internet_OnlineBackup  \\\n",
       "0                     No                      DSL  ...                   Yes   \n",
       "1                    Yes                      DSL  ...                    No   \n",
       "2                     No              Fiber optic  ...                    No   \n",
       "3                     No              Fiber optic  ...                   Yes   \n",
       "4                     No              Fiber optic  ...                    No   \n",
       "...                  ...                      ...  ...                   ...   \n",
       "7262                  No                      DSL  ...                    No   \n",
       "7263                 Yes              Fiber optic  ...                    No   \n",
       "7264                  No                      DSL  ...                   Yes   \n",
       "7265                  No                      DSL  ...                    No   \n",
       "7266    No phone service                      DSL  ...                   Yes   \n",
       "\n",
       "     internet_DeviceProtection internet_TechSupport internet_StreamingTV  \\\n",
       "0                           No                  Yes                  Yes   \n",
       "1                           No                   No                   No   \n",
       "2                          Yes                   No                   No   \n",
       "3                          Yes                   No                  Yes   \n",
       "4                           No                  Yes                  Yes   \n",
       "...                        ...                  ...                  ...   \n",
       "7262                        No                  Yes                   No   \n",
       "7263                        No                   No                   No   \n",
       "7264                        No                   No                   No   \n",
       "7265                       Yes                  Yes                   No   \n",
       "7266                       Yes                   No                  Yes   \n",
       "\n",
       "     internet_StreamingMovies account_Contract account_PaperlessBilling  \\\n",
       "0                          No         One year                      Yes   \n",
       "1                         Yes   Month-to-month                       No   \n",
       "2                          No   Month-to-month                      Yes   \n",
       "3                         Yes   Month-to-month                      Yes   \n",
       "4                          No   Month-to-month                      Yes   \n",
       "...                       ...              ...                      ...   \n",
       "7262                       No         One year                       No   \n",
       "7263                      Yes   Month-to-month                      Yes   \n",
       "7264                       No   Month-to-month                      Yes   \n",
       "7265                      Yes         Two year                       No   \n",
       "7266                      Yes         Two year                       No   \n",
       "\n",
       "     account_PaymentMethod account_Charges.Monthly  account_Charges.Total  \n",
       "0             Mailed check                   65.60                 593.30  \n",
       "1             Mailed check                   59.90                 542.40  \n",
       "2         Electronic check                   73.90                 280.85  \n",
       "3         Electronic check                   98.00                1237.85  \n",
       "4             Mailed check                   83.90                 267.40  \n",
       "...                    ...                     ...                    ...  \n",
       "7262          Mailed check                   55.15                 742.90  \n",
       "7263      Electronic check                   85.10                1873.70  \n",
       "7264          Mailed check                   50.30                  92.75  \n",
       "7265          Mailed check                   67.85                4627.65  \n",
       "7266      Electronic check                   59.00                3707.60  \n",
       "\n",
       "[7267 rows x 21 columns]>"
      ]
     },
     "execution_count": 10,
     "metadata": {},
     "output_type": "execute_result"
    }
   ],
   "source": [
    "df.describe"
   ]
  },
  {
   "cell_type": "code",
   "execution_count": 11,
   "metadata": {},
   "outputs": [
    {
     "data": {
      "text/plain": [
       "customerID                    0\n",
       "Churn                         0\n",
       "customer_gender               0\n",
       "customer_SeniorCitizen        0\n",
       "customer_Partner              0\n",
       "customer_Dependents           0\n",
       "customer_tenure               0\n",
       "phone_PhoneService            0\n",
       "phone_MultipleLines           0\n",
       "internet_InternetService      0\n",
       "internet_OnlineSecurity       0\n",
       "internet_OnlineBackup         0\n",
       "internet_DeviceProtection     0\n",
       "internet_TechSupport          0\n",
       "internet_StreamingTV          0\n",
       "internet_StreamingMovies      0\n",
       "account_Contract              0\n",
       "account_PaperlessBilling      0\n",
       "account_PaymentMethod         0\n",
       "account_Charges.Monthly       0\n",
       "account_Charges.Total        11\n",
       "dtype: int64"
      ]
     },
     "execution_count": 11,
     "metadata": {},
     "output_type": "execute_result"
    }
   ],
   "source": [
    "df.isnull().sum()"
   ]
  },
  {
   "cell_type": "code",
   "execution_count": 22,
   "metadata": {
    "collapsed": true
   },
   "outputs": [
    {
     "data": {
      "text/plain": [
       "customerID                   0\n",
       "Churn                        0\n",
       "customer_gender              0\n",
       "customer_SeniorCitizen       0\n",
       "customer_Partner             0\n",
       "customer_Dependents          0\n",
       "customer_tenure              0\n",
       "phone_PhoneService           0\n",
       "phone_MultipleLines          0\n",
       "internet_InternetService     0\n",
       "internet_OnlineSecurity      0\n",
       "internet_OnlineBackup        0\n",
       "internet_DeviceProtection    0\n",
       "internet_TechSupport         0\n",
       "internet_StreamingTV         0\n",
       "internet_StreamingMovies     0\n",
       "account_Contract             0\n",
       "account_PaperlessBilling     0\n",
       "account_PaymentMethod        0\n",
       "account_Charges.Monthly      0\n",
       "account_Charges.Total        0\n",
       "Churn_binary                 0\n",
       "dtype: int64"
      ]
     },
     "execution_count": 22,
     "metadata": {},
     "output_type": "execute_result"
    }
   ],
   "source": [
    "df = df.dropna()\n",
    "df.isnull().sum()"
   ]
  },
  {
   "cell_type": "markdown",
   "metadata": {
    "id": "6XnTC2NTmMRL"
   },
   "source": [
    "#📊 Carga e análise"
   ]
  },
  {
   "cell_type": "code",
   "execution_count": 25,
   "metadata": {},
   "outputs": [
    {
     "data": {
      "image/png": "[encoded data removed]",
      "text/plain": [
       "<Figure size 700x400 with 1 Axes>"
      ]
     },
     "metadata": {},
     "output_type": "display_data"
    }
   ],
   "source": [
    "import matplotlib.pyplot as plt\n",
    "\n",
    "frutas = ['Maçã', 'Banana', 'Laranja']\n",
    "vendas = [150, 200, 120]\n",
    "\n",
    "cores = ['#ebebeb', '#d9d9d9', '#cccccc']  # cinza_1, cinza_2, cinza_3\n",
    "\n",
    "plt.figure(figsize=(7, 4))\n",
    "plt.bar(frutas, vendas, color=cores)\n",
    "\n",
    "plt.title('Vendas de Frutas (Unidades)')\n",
    "plt.xlabel('Frutas')\n",
    "plt.ylabel('Quantidade Vendida')\n",
    "\n",
    "for i, v in enumerate(vendas):\n",
    "    plt.text(i, v + 5, str(v), ha='center', va='bottom')\n",
    "\n",
    "plt.tight_layout()\n",
    "plt.show()\n",
    "\n"
   ]
  },
  {
   "cell_type": "markdown",
   "metadata": {
    "id": "v-WzfSvTmaw9"
   },
   "source": [
    "#📄Relatorio Final"
   ]
  },
  {
   "cell_type": "code",
   "execution_count": null,
   "metadata": {
    "id": "XMTac0YJmeK9"
   },
   "outputs": [],
   "source": []
  }
 ],
 "metadata": {
  "colab": {
   "provenance": []
  },
  "kernelspec": {
   "display_name": "Python 3 (ipykernel)",
   "language": "python",
   "name": "python3"
  },
  "language_info": {
   "codemirror_mode": {
    "name": "ipython",
    "version": 3
   },
   "file_extension": ".py",
   "mimetype": "text/x-python",
   "name": "python",
   "nbconvert_exporter": "python",
   "pygments_lexer": "ipython3",
   "version": "3.11.5"
  },
  "toc": {
   "base_numbering": 1,
   "nav_menu": {},
   "number_sections": true,
   "sideBar": true,
   "skip_h1_title": false,
   "title_cell": "Sumário",
   "title_sidebar": "Sumário",
   "toc_cell": false,
   "toc_position": {},
   "toc_section_display": true,
   "toc_window_display": true
  }
 },
 "nbformat": 4,
 "nbformat_minor": 1
}
